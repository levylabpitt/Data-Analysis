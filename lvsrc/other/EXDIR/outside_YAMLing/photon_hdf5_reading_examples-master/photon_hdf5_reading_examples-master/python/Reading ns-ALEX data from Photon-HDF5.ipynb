{
 "cells": [
  {
   "cell_type": "markdown",
   "metadata": {},
   "source": [
    "# Reading ns-ALEX data from Photon-HDF5\n",
    "\n",
    "*In this notebook we show how to read a ns-ALEX  smFRET measurement stored in *\n",
    "*[Photon-HDF5 format](http://photon-hdf5.readthedocs.org/)*\n",
    "*using python and a few common scientific libraries (numpy, pytables, matplotlib).*\n",
    "*Specifically, we show how to load timestamps, detectors and nanotimes arrays*\n",
    "*and how to plot a TCSPC histogram.* \n",
    "\n",
    "*For a µs-ALEX example see [Reading µs-ALEX data from Photon-HDF5](Reading µs-ALEX data from Photon-HDF5.ipynb).*"
   ]
  },
  {
   "cell_type": "code",
   "execution_count": 1,
   "metadata": {},
   "outputs": [],
   "source": [
    "from __future__ import division, print_function  # only needed on py2\n",
    "%matplotlib inline\n",
    "import numpy as np\n",
    "import tables\n",
    "import matplotlib.pyplot as plt"
   ]
  },
  {
   "cell_type": "markdown",
   "metadata": {},
   "source": [
    "# 1. Utility functions\n",
    "\n",
    "Here we define an utility function to print HDF5 file contents:"
   ]
  },
  {
   "cell_type": "code",
   "execution_count": 2,
   "metadata": {},
   "outputs": [],
   "source": [
    "def print_children(group):\n",
    "    \"\"\"Print all the sub-groups in `group` and leaf-nodes children of `group`.\n",
    "\n",
    "    Parameters:\n",
    "        group (pytables group): the group to be printed.\n",
    "    \"\"\"\n",
    "    for name, value in group._v_children.items():\n",
    "        if isinstance(value, tables.Group):\n",
    "            content = '(Group)'\n",
    "        else:\n",
    "            content = value.read()\n",
    "        print(name)\n",
    "        print('    Content:     %s' % content)\n",
    "        print('    Description: %s\\n' % value._v_title.decode())"
   ]
  },
  {
   "cell_type": "markdown",
   "metadata": {},
   "source": [
    "# 2. Open the data file\n",
    "\n",
    "Let assume we have a Photon-HDF5 file at the following location:"
   ]
  },
  {
   "cell_type": "code",
   "execution_count": 3,
   "metadata": {
    "collapsed": true
   },
   "outputs": [],
   "source": [
    "filename = '../data/Pre.hdf5'"
   ]
  },
  {
   "cell_type": "markdown",
   "metadata": {},
   "source": [
    "We can open the file, as a normal HDF5 file"
   ]
  },
  {
   "cell_type": "code",
   "execution_count": 4,
   "metadata": {
    "collapsed": true
   },
   "outputs": [],
   "source": [
    "h5file = tables.open_file(filename)"
   ]
  },
  {
   "cell_type": "markdown",
   "metadata": {},
   "source": [
    "The object `h5file` is a pytables file reference. The root group is accessed with `h5file.root`."
   ]
  },
  {
   "cell_type": "markdown",
   "metadata": {},
   "source": [
    "# 3. Print the content\n",
    "\n",
    "Let's start by taking a look at the file content:"
   ]
  },
  {
   "cell_type": "code",
   "execution_count": 5,
   "metadata": {},
   "outputs": [
    {
     "name": "stdout",
     "output_type": "stream",
     "text": [
      "provenance\n",
      "    Content:     (Group)\n",
      "    Description: Information about the original data file.\n",
      "\n",
      "identity\n",
      "    Content:     (Group)\n",
      "    Description: Information about the Photon-HDF5 data file.\n",
      "\n",
      "sample\n",
      "    Content:     (Group)\n",
      "    Description: Information about the measured sample.\n",
      "\n",
      "setup\n",
      "    Content:     (Group)\n",
      "    Description: Information about the experimental setup.\n",
      "\n",
      "photon_data\n",
      "    Content:     (Group)\n",
      "    Description: Group containing arrays of photon-data.\n",
      "\n",
      "acquisition_duration\n",
      "    Content:     900.0\n",
      "    Description: Measurement duration in seconds.\n",
      "\n",
      "user\n",
      "    Content:     (Group)\n",
      "    Description: A custom group.\n",
      "\n",
      "description\n",
      "    Content:     b'A demonstrative smFRET-nsALEX measurement.'\n",
      "    Description: A user-defined comment describing the data file.\n",
      "\n"
     ]
    }
   ],
   "source": [
    "print_children(h5file.root)"
   ]
  },
  {
   "cell_type": "markdown",
   "metadata": {},
   "source": [
    "We see the typical Photon-HDF5 structure. In particular the field `description` provides a short description of the measurement and `acquisition_duration` tells that the acquisition lasted 900 seconds.\n",
    "\n",
    "As an example, let's take a look at the content of the `sample` group:"
   ]
  },
  {
   "cell_type": "code",
   "execution_count": 6,
   "metadata": {},
   "outputs": [
    {
     "name": "stdout",
     "output_type": "stream",
     "text": [
      "num_dyes\n",
      "    Content:     2\n",
      "    Description: Number of different dyes present in the samples.\n",
      "\n",
      "buffer_name\n",
      "    Content:     b'Tris20 mM Ph 7.8'\n",
      "    Description: A descriptive name for the buffer.\n",
      "\n",
      "dye_names\n",
      "    Content:     b'ATTO488, ATTO647N'\n",
      "    Description: String containing a comma-separated list of dye or fluorophore names.\n",
      "\n",
      "sample_name\n",
      "    Content:     b'Doubly-labeled ssDNA partially hybridized to a complementary strand.'\n",
      "    Description: A descriptive name for the sample.\n",
      "\n"
     ]
    }
   ],
   "source": [
    "print_children(h5file.root.sample)"
   ]
  },
  {
   "cell_type": "markdown",
   "metadata": {},
   "source": [
    "Let's define a shortcut to the photon_data group to save some typing later:"
   ]
  },
  {
   "cell_type": "code",
   "execution_count": 7,
   "metadata": {
    "collapsed": true
   },
   "outputs": [],
   "source": [
    "photon_data = h5file.root.photon_data"
   ]
  },
  {
   "cell_type": "markdown",
   "metadata": {},
   "source": [
    "# 4. Reading the data"
   ]
  },
  {
   "cell_type": "markdown",
   "metadata": {},
   "source": [
    "First, we make sure the file contains the right type of measurement:"
   ]
  },
  {
   "cell_type": "code",
   "execution_count": 8,
   "metadata": {},
   "outputs": [
    {
     "data": {
      "text/plain": [
       "'smFRET-nsALEX'"
      ]
     },
     "execution_count": 8,
     "metadata": {},
     "output_type": "execute_result"
    }
   ],
   "source": [
    "photon_data.measurement_specs.measurement_type.read().decode()"
   ]
  },
  {
   "cell_type": "markdown",
   "metadata": {},
   "source": [
    "Ok, tha's what we espect. \n",
    "\n",
    "Now we can load all the `photon_data` arrays an their specs:"
   ]
  },
  {
   "cell_type": "code",
   "execution_count": 9,
   "metadata": {},
   "outputs": [],
   "source": [
    "timestamps = photon_data.timestamps.read()\n",
    "timestamps_unit = photon_data.timestamps_specs.timestamps_unit.read()\n",
    "detectors = photon_data.detectors.read()\n",
    "nanotimes = photon_data.nanotimes.read()\n",
    "tcspc_num_bins = photon_data.nanotimes_specs.tcspc_num_bins.read()\n",
    "tcspc_unit = photon_data.nanotimes_specs.tcspc_unit.read()"
   ]
  },
  {
   "cell_type": "code",
   "execution_count": 10,
   "metadata": {},
   "outputs": [
    {
     "name": "stdout",
     "output_type": "stream",
     "text": [
      "Number of photons: 20120771\n",
      "Timestamps unit:   5.00e-08 seconds\n",
      "TCSPC unit:        1.60e-11 seconds\n",
      "TCSPC number of bins:    4096\n",
      "Detectors:         [  0   1 127]\n"
     ]
    }
   ],
   "source": [
    "print('Number of photons: %d' % timestamps.size)\n",
    "print('Timestamps unit:   %.2e seconds' % timestamps_unit)\n",
    "print('TCSPC unit:        %.2e seconds' % tcspc_unit)\n",
    "print('TCSPC number of bins:    %d' % tcspc_num_bins)\n",
    "print('Detectors:         %s' % np.unique(detectors))"
   ]
  },
  {
   "cell_type": "markdown",
   "metadata": {},
   "source": [
    "We may want to check the excitation wavelengths used in the measurement. This information is found in the setup group:"
   ]
  },
  {
   "cell_type": "code",
   "execution_count": 11,
   "metadata": {},
   "outputs": [
    {
     "data": {
      "text/plain": [
       "[4.7e-07, 6.35e-07]"
      ]
     },
     "execution_count": 11,
     "metadata": {},
     "output_type": "execute_result"
    }
   ],
   "source": [
    "h5file.root.setup.excitation_wavelengths.read()"
   ]
  },
  {
   "cell_type": "markdown",
   "metadata": {},
   "source": [
    "Now, let's load the definitions of donor/acceptor channel and excitation periods:"
   ]
  },
  {
   "cell_type": "code",
   "execution_count": 12,
   "metadata": {},
   "outputs": [
    {
     "name": "stdout",
     "output_type": "stream",
     "text": [
      "Donor CH: 1     Acceptor CH: 0\n"
     ]
    }
   ],
   "source": [
    "donor_ch = photon_data.measurement_specs.detectors_specs.spectral_ch1.read()\n",
    "acceptor_ch = photon_data.measurement_specs.detectors_specs.spectral_ch2.read()\n",
    "print('Donor CH: %d     Acceptor CH: %d' % (donor_ch, acceptor_ch))"
   ]
  },
  {
   "cell_type": "code",
   "execution_count": 13,
   "metadata": {},
   "outputs": [
    {
     "name": "stdout",
     "output_type": "stream",
     "text": [
      "Laser repetion rate:  20.0 MHz \n",
      "Donor period:    [1540, 3050]      \n",
      "Acceptor period: [150, 1500]\n"
     ]
    }
   ],
   "source": [
    "laser_rep_rate = photon_data.measurement_specs.laser_repetition_rate.read()\n",
    "donor_period = photon_data.measurement_specs.alex_excitation_period1.read()\n",
    "acceptor_period = photon_data.measurement_specs.alex_excitation_period2.read()\n",
    "print('Laser repetion rate: %5.1f MHz \\nDonor period:    %s      \\nAcceptor period: %s' % \\\n",
    "      (laser_rep_rate*1e-6, donor_period, acceptor_period))"
   ]
  },
  {
   "cell_type": "markdown",
   "metadata": {},
   "source": [
    "These numbers define the donor and acceptor excitation periods as shown below:\n",
    "\n",
    "$$150 < \\widetilde{t} < 1500 \\qquad \\textrm{donor period}$$\n",
    "\n",
    "$$1540 < \\widetilde{t} < 3050 \\qquad \\textrm{acceptor period}$$\n",
    "\n",
    "where $\\widetilde{t}$ represent the `nanotimes` array. \n",
    "\n",
    "For more information\n",
    "please refer to the [measurements_specs section](http://photon-hdf5.readthedocs.org/en/latest/phdata.html#measurement-specs)\n",
    "of the *Reference Documentation*."
   ]
  },
  {
   "cell_type": "markdown",
   "metadata": {},
   "source": [
    "# 5. Plotting the TCSPC histogram\n",
    "\n",
    "Let start by separating nanotimes from donor and acceptor channels:"
   ]
  },
  {
   "cell_type": "code",
   "execution_count": 14,
   "metadata": {
    "collapsed": true
   },
   "outputs": [],
   "source": [
    "nanotimes_donor = nanotimes[detectors == donor_ch]\n",
    "nanotimes_acceptor = nanotimes[detectors == acceptor_ch]"
   ]
  },
  {
   "cell_type": "markdown",
   "metadata": {},
   "source": [
    "Next, we compute the histograms:"
   ]
  },
  {
   "cell_type": "code",
   "execution_count": 15,
   "metadata": {
    "collapsed": true
   },
   "outputs": [],
   "source": [
    "bins = np.arange(0, tcspc_num_bins + 1)\n",
    "hist_d, _ = np.histogram(nanotimes_donor, bins=bins)\n",
    "hist_a, _ = np.histogram(nanotimes_acceptor, bins=bins)"
   ]
  },
  {
   "cell_type": "markdown",
   "metadata": {},
   "source": [
    "And finally we plot the TCSPC histogram using *matplotlib*:"
   ]
  },
  {
   "cell_type": "code",
   "execution_count": 16,
   "metadata": {},
   "outputs": [
    {
     "data": {
      "image/png": "[encoded data removed]",
      "text/plain": [
       "<matplotlib.figure.Figure at 0x10d599390>"
      ]
     },
     "metadata": {},
     "output_type": "display_data"
    }
   ],
   "source": [
    "fig, ax = plt.subplots(figsize=(10, 4.5))\n",
    "scale = tcspc_unit*1e9\n",
    "ax.plot(bins[:-1]*scale, hist_d, color='green', label='donor')\n",
    "ax.plot(bins[:-1]*scale, hist_a, color='red', label='acceptor')\n",
    "ax.axvspan(donor_period[0]*scale, donor_period[1]*scale, alpha=0.3, color='green')\n",
    "ax.axvspan(acceptor_period[0]*scale, acceptor_period[1]*scale, alpha=0.3, color='red')\n",
    "ax.set_xlabel('TCSPC Nanotime (ns) ')\n",
    "ax.set_title('TCSPC Histogram')\n",
    "ax.set_yscale('log')\n",
    "ax.set_ylim(10)\n",
    "ax.legend(loc='center left', bbox_to_anchor=(1, 0.5));"
   ]
  },
  {
   "cell_type": "code",
   "execution_count": 17,
   "metadata": {
    "collapsed": true
   },
   "outputs": [],
   "source": [
    "#plt.close('all')"
   ]
  },
  {
   "cell_type": "code",
   "execution_count": null,
   "metadata": {
    "collapsed": true
   },
   "outputs": [],
   "source": []
  }
 ],
 "metadata": {
  "hide_input": false,
  "kernelspec": {
   "display_name": "Python [default]",
   "language": "python",
   "name": "python3"
  },
  "language_info": {
   "codemirror_mode": {
    "name": "ipython",
    "version": 3
   },
   "file_extension": ".py",
   "mimetype": "text/x-python",
   "name": "python",
   "nbconvert_exporter": "python",
   "pygments_lexer": "ipython3",
   "version": "3.5.2"
  },
  "toc": {
   "colors": {
    "hover_highlight": "#DAA520",
    "running_highlight": "#FF0000",
    "selected_highlight": "#FFD700"
   },
   "moveMenuLeft": true,
   "nav_menu": {
    "height": "119px",
    "width": "252px"
   },
   "navigate_menu": true,
   "number_sections": false,
   "sideBar": true,
   "threshold": 4,
   "toc_cell": false,
   "toc_section_display": "block",
   "toc_window_display": false,
   "widenNotebook": false
  }
 },
 "nbformat": 4,
 "nbformat_minor": 1
}
